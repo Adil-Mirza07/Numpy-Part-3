{
 "cells": [
  {
   "cell_type": "code",
   "execution_count": 1,
   "id": "7f400e0d-9a12-4bc9-9dd2-3923b2f4e37a",
   "metadata": {},
   "outputs": [],
   "source": [
    "import numpy as np"
   ]
  },
  {
   "cell_type": "code",
   "execution_count": 2,
   "id": "a81c40a8-4a5d-4973-8674-580fecf9bd67",
   "metadata": {},
   "outputs": [],
   "source": [
    "# Numpy - Array Manipulation"
   ]
  },
  {
   "cell_type": "code",
   "execution_count": 3,
   "id": "f98b779f-c057-49f7-aa6a-e0250175f218",
   "metadata": {},
   "outputs": [],
   "source": [
    "arr = np.random.randint(1,10 , (4,4))"
   ]
  },
  {
   "cell_type": "code",
   "execution_count": 4,
   "id": "0d2829b6-afef-4245-8c89-2c6c590427a9",
   "metadata": {},
   "outputs": [
    {
     "data": {
      "text/plain": [
       "array([[1, 8, 7, 1],\n",
       "       [3, 2, 6, 6],\n",
       "       [9, 1, 8, 7],\n",
       "       [3, 1, 8, 2]])"
      ]
     },
     "execution_count": 4,
     "metadata": {},
     "output_type": "execute_result"
    }
   ],
   "source": [
    "arr"
   ]
  },
  {
   "cell_type": "code",
   "execution_count": 5,
   "id": "a5569c7e-ab18-41bc-ae13-0933feb29099",
   "metadata": {},
   "outputs": [
    {
     "data": {
      "text/plain": [
       "array([[1, 8],\n",
       "       [7, 1],\n",
       "       [3, 2],\n",
       "       [6, 6],\n",
       "       [9, 1],\n",
       "       [8, 7],\n",
       "       [3, 1],\n",
       "       [8, 2]])"
      ]
     },
     "execution_count": 5,
     "metadata": {},
     "output_type": "execute_result"
    }
   ],
   "source": [
    "arr.reshape(8,2) ## Using the reshape you will convert a array into any shape"
   ]
  },
  {
   "cell_type": "code",
   "execution_count": 6,
   "id": "5d6ecdde-9bee-4c0f-96b3-04cf7113a4f3",
   "metadata": {},
   "outputs": [
    {
     "data": {
      "text/plain": [
       "array([[1, 8, 7, 1],\n",
       "       [3, 2, 6, 6],\n",
       "       [9, 1, 8, 7],\n",
       "       [3, 1, 8, 2]])"
      ]
     },
     "execution_count": 6,
     "metadata": {},
     "output_type": "execute_result"
    }
   ],
   "source": [
    "## How to rotate a entire array \n",
    "arr"
   ]
  },
  {
   "cell_type": "code",
   "execution_count": 7,
   "id": "097af4f9-5953-4f1d-a070-8554a26453ae",
   "metadata": {},
   "outputs": [
    {
     "data": {
      "text/plain": [
       "array([[1, 3, 9, 3],\n",
       "       [8, 2, 1, 1],\n",
       "       [7, 6, 8, 8],\n",
       "       [1, 6, 7, 2]])"
      ]
     },
     "execution_count": 7,
     "metadata": {},
     "output_type": "execute_result"
    }
   ],
   "source": [
    "arr.T"
   ]
  },
  {
   "cell_type": "code",
   "execution_count": 9,
   "id": "938151fa-4796-4543-8b24-8428e110b89c",
   "metadata": {},
   "outputs": [
    {
     "data": {
      "text/plain": [
       "array([1, 8, 7, 1, 3, 2, 6, 6, 9, 1, 8, 7, 3, 1, 8, 2])"
      ]
     },
     "execution_count": 9,
     "metadata": {},
     "output_type": "execute_result"
    }
   ],
   "source": [
    "arr.flatten() ## flatten is convert the array into one dimensional array."
   ]
  },
  {
   "cell_type": "code",
   "execution_count": 10,
   "id": "0b09da06-ff45-4588-9dbf-71b191daefd1",
   "metadata": {},
   "outputs": [
    {
     "data": {
      "text/plain": [
       "array([[1, 8, 7, 1],\n",
       "       [3, 2, 6, 6],\n",
       "       [9, 1, 8, 7],\n",
       "       [3, 1, 8, 2]])"
      ]
     },
     "execution_count": 10,
     "metadata": {},
     "output_type": "execute_result"
    }
   ],
   "source": [
    "arr"
   ]
  },
  {
   "cell_type": "code",
   "execution_count": 12,
   "id": "5c5ec225-1f13-48aa-8cac-a45ed5508a04",
   "metadata": {},
   "outputs": [
    {
     "data": {
      "text/plain": [
       "array([[[1, 8, 7, 1]],\n",
       "\n",
       "       [[3, 2, 6, 6]],\n",
       "\n",
       "       [[9, 1, 8, 7]],\n",
       "\n",
       "       [[3, 1, 8, 2]]])"
      ]
     },
     "execution_count": 12,
     "metadata": {},
     "output_type": "execute_result"
    }
   ],
   "source": [
    "np.expand_dims(arr,axis=1)"
   ]
  },
  {
   "cell_type": "code",
   "execution_count": 13,
   "id": "facac8be-4a69-4311-8f21-35fc4d03a1da",
   "metadata": {},
   "outputs": [
    {
     "data": {
      "text/plain": [
       "array([[[1, 8, 7, 1],\n",
       "        [3, 2, 6, 6],\n",
       "        [9, 1, 8, 7],\n",
       "        [3, 1, 8, 2]]])"
      ]
     },
     "execution_count": 13,
     "metadata": {},
     "output_type": "execute_result"
    }
   ],
   "source": [
    "np.expand_dims(arr,axis=0)"
   ]
  },
  {
   "cell_type": "code",
   "execution_count": 14,
   "id": "4d7e7a62-3895-44ff-9f1a-de350539df37",
   "metadata": {},
   "outputs": [],
   "source": [
    "data = np.array([[1] , [2] , [3]])"
   ]
  },
  {
   "cell_type": "code",
   "execution_count": 15,
   "id": "e054b6da-600a-408f-80da-96ed77ff7ac7",
   "metadata": {},
   "outputs": [
    {
     "data": {
      "text/plain": [
       "array([1, 2, 3])"
      ]
     },
     "execution_count": 15,
     "metadata": {},
     "output_type": "execute_result"
    }
   ],
   "source": [
    "np.squeeze(data)"
   ]
  },
  {
   "cell_type": "code",
   "execution_count": 16,
   "id": "0eb696e9-83af-4c42-b134-236b71f2d8bd",
   "metadata": {},
   "outputs": [
    {
     "data": {
      "text/plain": [
       "array([1, 1, 2, 2, 3, 3])"
      ]
     },
     "execution_count": 16,
     "metadata": {},
     "output_type": "execute_result"
    }
   ],
   "source": [
    "np.repeat(data,2)"
   ]
  },
  {
   "cell_type": "code",
   "execution_count": 17,
   "id": "49b76b01-e7dc-4d22-8aa6-6dcbb10b8a40",
   "metadata": {},
   "outputs": [
    {
     "data": {
      "text/plain": [
       "array([[1],\n",
       "       [2],\n",
       "       [3]])"
      ]
     },
     "execution_count": 17,
     "metadata": {},
     "output_type": "execute_result"
    }
   ],
   "source": [
    "np.roll(data,3)"
   ]
  },
  {
   "cell_type": "code",
   "execution_count": 18,
   "id": "be31d3dd-31df-4d69-a0ed-e53ba44c9813",
   "metadata": {},
   "outputs": [
    {
     "data": {
      "text/plain": [
       "array([[1, 0, 0, 0],\n",
       "       [0, 2, 0, 0],\n",
       "       [0, 0, 3, 0],\n",
       "       [0, 0, 0, 4]])"
      ]
     },
     "execution_count": 18,
     "metadata": {},
     "output_type": "execute_result"
    }
   ],
   "source": [
    "np.diag(np.array([1,2,3,4]))"
   ]
  },
  {
   "cell_type": "code",
   "execution_count": 19,
   "id": "14abe9f3-b7dc-43de-a3ce-1d011b334d02",
   "metadata": {},
   "outputs": [],
   "source": [
    "##Numpy - Binary Operation."
   ]
  },
  {
   "cell_type": "code",
   "execution_count": 20,
   "id": "0e57f552-e693-49d3-8a6a-74ed6502ac40",
   "metadata": {},
   "outputs": [],
   "source": [
    "arr1 = np.random.randint(1,10 , (3,4))\n",
    "arr2 = np.random.randint(1,10 , (3,4))"
   ]
  },
  {
   "cell_type": "code",
   "execution_count": 21,
   "id": "b292ac52-1f24-449f-b9c1-32eeb58e1f3c",
   "metadata": {},
   "outputs": [
    {
     "data": {
      "text/plain": [
       "array([[1, 5, 5, 6],\n",
       "       [4, 3, 9, 7],\n",
       "       [8, 9, 3, 2]])"
      ]
     },
     "execution_count": 21,
     "metadata": {},
     "output_type": "execute_result"
    }
   ],
   "source": [
    "arr1"
   ]
  },
  {
   "cell_type": "code",
   "execution_count": 22,
   "id": "1bb0eb8d-2a32-4009-b857-c5999107196e",
   "metadata": {},
   "outputs": [
    {
     "data": {
      "text/plain": [
       "array([[7, 8, 7, 7],\n",
       "       [2, 2, 2, 3],\n",
       "       [5, 3, 4, 7]])"
      ]
     },
     "execution_count": 22,
     "metadata": {},
     "output_type": "execute_result"
    }
   ],
   "source": [
    "arr2"
   ]
  },
  {
   "cell_type": "code",
   "execution_count": 23,
   "id": "6ca1d9aa-348a-4927-87d6-6b489b42aa2a",
   "metadata": {},
   "outputs": [
    {
     "data": {
      "text/plain": [
       "array([[ 8, 13, 12, 13],\n",
       "       [ 6,  5, 11, 10],\n",
       "       [13, 12,  7,  9]])"
      ]
     },
     "execution_count": 23,
     "metadata": {},
     "output_type": "execute_result"
    }
   ],
   "source": [
    "arr1+arr2"
   ]
  },
  {
   "cell_type": "code",
   "execution_count": 24,
   "id": "d3140a60-23ce-4e1a-a63f-12a83c8a40d2",
   "metadata": {},
   "outputs": [
    {
     "data": {
      "text/plain": [
       "array([[ 7, 40, 35, 42],\n",
       "       [ 8,  6, 18, 21],\n",
       "       [40, 27, 12, 14]])"
      ]
     },
     "execution_count": 24,
     "metadata": {},
     "output_type": "execute_result"
    }
   ],
   "source": [
    "arr1*arr2"
   ]
  },
  {
   "cell_type": "code",
   "execution_count": 25,
   "id": "db5c6d4b-d702-486a-b8c3-c18f6a5f532e",
   "metadata": {},
   "outputs": [
    {
     "data": {
      "text/plain": [
       "array([[0.14285714, 0.625     , 0.71428571, 0.85714286],\n",
       "       [2.        , 1.5       , 4.5       , 2.33333333],\n",
       "       [1.6       , 3.        , 0.75      , 0.28571429]])"
      ]
     },
     "execution_count": 25,
     "metadata": {},
     "output_type": "execute_result"
    }
   ],
   "source": [
    "arr1/arr2"
   ]
  },
  {
   "cell_type": "code",
   "execution_count": 26,
   "id": "12915989-24ba-46b6-b035-a05db0e0d3c5",
   "metadata": {},
   "outputs": [
    {
     "data": {
      "text/plain": [
       "array([[-6, -3, -2, -1],\n",
       "       [ 2,  1,  7,  4],\n",
       "       [ 3,  6, -1, -5]])"
      ]
     },
     "execution_count": 26,
     "metadata": {},
     "output_type": "execute_result"
    }
   ],
   "source": [
    "arr1-arr2"
   ]
  },
  {
   "cell_type": "code",
   "execution_count": 27,
   "id": "cedf5d44-2ebe-406b-b84a-fd7a64fcad41",
   "metadata": {},
   "outputs": [
    {
     "data": {
      "text/plain": [
       "array([[     1, 390625,  78125, 279936],\n",
       "       [    16,      9,     81,    343],\n",
       "       [ 32768,    729,     81,    128]])"
      ]
     },
     "execution_count": 27,
     "metadata": {},
     "output_type": "execute_result"
    }
   ],
   "source": [
    "arr1**arr2"
   ]
  },
  {
   "cell_type": "code",
   "execution_count": 28,
   "id": "adbf9646-3e36-4e3c-9864-38fe5c4e73b2",
   "metadata": {},
   "outputs": [
    {
     "data": {
      "text/plain": [
       "array([[ -2,  -6,  -6,  -7],\n",
       "       [ -5,  -4, -10,  -8],\n",
       "       [ -9, -10,  -4,  -3]])"
      ]
     },
     "execution_count": 28,
     "metadata": {},
     "output_type": "execute_result"
    }
   ],
   "source": [
    "~arr1"
   ]
  },
  {
   "cell_type": "code",
   "execution_count": 30,
   "id": "292ba00b-4fb6-428a-9e9d-04c32ff28700",
   "metadata": {},
   "outputs": [
    {
     "data": {
      "text/plain": [
       "array([[1, 5, 5, 6],\n",
       "       [4, 3, 9, 7],\n",
       "       [8, 9, 3, 2]])"
      ]
     },
     "execution_count": 30,
     "metadata": {},
     "output_type": "execute_result"
    }
   ],
   "source": [
    "arr1"
   ]
  },
  {
   "cell_type": "code",
   "execution_count": 31,
   "id": "b35a54aa-5c1f-4a9f-84ed-49ebd9b54855",
   "metadata": {},
   "outputs": [
    {
     "data": {
      "text/plain": [
       "array([[False, False, False, False],\n",
       "       [ True,  True,  True,  True],\n",
       "       [ True,  True, False, False]])"
      ]
     },
     "execution_count": 31,
     "metadata": {},
     "output_type": "execute_result"
    }
   ],
   "source": [
    "arr1>arr2"
   ]
  },
  {
   "cell_type": "code",
   "execution_count": 32,
   "id": "a2431c89-1630-4003-9e88-35f60e21b7c1",
   "metadata": {},
   "outputs": [],
   "source": [
    "#Numpy - String Function."
   ]
  },
  {
   "cell_type": "code",
   "execution_count": 35,
   "id": "34a695e1-fe12-45f9-99a9-33510ea52d80",
   "metadata": {},
   "outputs": [],
   "source": [
    "arr = np.array([\"adil\",\"mirza\"])"
   ]
  },
  {
   "cell_type": "code",
   "execution_count": 36,
   "id": "cd11938f-4118-41fe-aa44-6582df1dd9dd",
   "metadata": {},
   "outputs": [
    {
     "data": {
      "text/plain": [
       "array(['adil', 'mirza'], dtype='<U5')"
      ]
     },
     "execution_count": 36,
     "metadata": {},
     "output_type": "execute_result"
    }
   ],
   "source": [
    "arr"
   ]
  },
  {
   "cell_type": "code",
   "execution_count": 37,
   "id": "9df82d48-594b-440f-ac7b-8ff9699dc559",
   "metadata": {},
   "outputs": [
    {
     "data": {
      "text/plain": [
       "array(['ADIL', 'MIRZA'], dtype='<U5')"
      ]
     },
     "execution_count": 37,
     "metadata": {},
     "output_type": "execute_result"
    }
   ],
   "source": [
    "np.char.upper(arr)"
   ]
  },
  {
   "cell_type": "code",
   "execution_count": 38,
   "id": "5ab1903b-0394-433f-9885-0ffbf16f32c8",
   "metadata": {},
   "outputs": [
    {
     "data": {
      "text/plain": [
       "array(['Adil', 'Mirza'], dtype='<U5')"
      ]
     },
     "execution_count": 38,
     "metadata": {},
     "output_type": "execute_result"
    }
   ],
   "source": [
    "np.char.capitalize(arr)"
   ]
  },
  {
   "cell_type": "code",
   "execution_count": 39,
   "id": "54d022a2-c19b-493c-9a84-ae9d5aefc307",
   "metadata": {},
   "outputs": [
    {
     "data": {
      "text/plain": [
       "array(['Adil', 'Mirza'], dtype='<U5')"
      ]
     },
     "execution_count": 39,
     "metadata": {},
     "output_type": "execute_result"
    }
   ],
   "source": [
    "np.char.title(arr)"
   ]
  },
  {
   "cell_type": "code",
   "execution_count": 40,
   "id": "467a87fa-581b-44c2-a4fe-51944c98c856",
   "metadata": {},
   "outputs": [],
   "source": [
    "##Numpy - Mathematical Functios"
   ]
  },
  {
   "cell_type": "code",
   "execution_count": 41,
   "id": "06ced9a9-4397-455d-8427-eddf58bcfa94",
   "metadata": {},
   "outputs": [
    {
     "data": {
      "text/plain": [
       "array([[1, 5, 5, 6],\n",
       "       [4, 3, 9, 7],\n",
       "       [8, 9, 3, 2]])"
      ]
     },
     "execution_count": 41,
     "metadata": {},
     "output_type": "execute_result"
    }
   ],
   "source": [
    "arr1"
   ]
  },
  {
   "cell_type": "code",
   "execution_count": 44,
   "id": "bf30c7a5-d7e8-40fd-94af-1c23649d3c0c",
   "metadata": {},
   "outputs": [
    {
     "data": {
      "text/plain": [
       "array([[ 0.84147098, -0.95892427, -0.95892427, -0.2794155 ],\n",
       "       [-0.7568025 ,  0.14112001,  0.41211849,  0.6569866 ],\n",
       "       [ 0.98935825,  0.41211849,  0.14112001,  0.90929743]])"
      ]
     },
     "execution_count": 44,
     "metadata": {},
     "output_type": "execute_result"
    }
   ],
   "source": [
    "# how to know the sinosudal values \n",
    "np.sin(arr1)"
   ]
  },
  {
   "cell_type": "code",
   "execution_count": 45,
   "id": "bc3e0b2c-e3df-4107-b87a-558d90cd1ca3",
   "metadata": {},
   "outputs": [
    {
     "data": {
      "text/plain": [
       "array([[ 0.54030231,  0.28366219,  0.28366219,  0.96017029],\n",
       "       [-0.65364362, -0.9899925 , -0.91113026,  0.75390225],\n",
       "       [-0.14550003, -0.91113026, -0.9899925 , -0.41614684]])"
      ]
     },
     "execution_count": 45,
     "metadata": {},
     "output_type": "execute_result"
    }
   ],
   "source": [
    "np.cos(arr1)"
   ]
  },
  {
   "cell_type": "code",
   "execution_count": 46,
   "id": "c1573596-860b-41a0-b457-6e0ceb166ad6",
   "metadata": {},
   "outputs": [
    {
     "data": {
      "text/plain": [
       "array([[ 1.55740772, -3.38051501, -3.38051501, -0.29100619],\n",
       "       [ 1.15782128, -0.14254654, -0.45231566,  0.87144798],\n",
       "       [-6.79971146, -0.45231566, -0.14254654, -2.18503986]])"
      ]
     },
     "execution_count": 46,
     "metadata": {},
     "output_type": "execute_result"
    }
   ],
   "source": [
    "np.tan(arr1)"
   ]
  },
  {
   "cell_type": "code",
   "execution_count": 47,
   "id": "f191a957-c170-46c3-8986-6f9ffb39ffe0",
   "metadata": {},
   "outputs": [
    {
     "data": {
      "text/plain": [
       "array([[0.        , 0.69897   , 0.69897   , 0.77815125],\n",
       "       [0.60205999, 0.47712125, 0.95424251, 0.84509804],\n",
       "       [0.90308999, 0.95424251, 0.47712125, 0.30103   ]])"
      ]
     },
     "execution_count": 47,
     "metadata": {},
     "output_type": "execute_result"
    }
   ],
   "source": [
    "np.log10(arr1)"
   ]
  },
  {
   "cell_type": "code",
   "execution_count": 48,
   "id": "c95f0001-f0e7-49eb-9ae4-78b4a9720c0d",
   "metadata": {},
   "outputs": [
    {
     "data": {
      "text/plain": [
       "array([[2.71828183e+00, 1.48413159e+02, 1.48413159e+02, 4.03428793e+02],\n",
       "       [5.45981500e+01, 2.00855369e+01, 8.10308393e+03, 1.09663316e+03],\n",
       "       [2.98095799e+03, 8.10308393e+03, 2.00855369e+01, 7.38905610e+00]])"
      ]
     },
     "execution_count": 48,
     "metadata": {},
     "output_type": "execute_result"
    }
   ],
   "source": [
    "np.exp(arr1)"
   ]
  },
  {
   "cell_type": "code",
   "execution_count": 49,
   "id": "2fbd7575-d0c8-4373-9c60-f9641d0ab74f",
   "metadata": {},
   "outputs": [
    {
     "data": {
      "text/plain": [
       "array([[ 1, 25, 25, 36],\n",
       "       [16,  9, 81, 49],\n",
       "       [64, 81,  9,  4]])"
      ]
     },
     "execution_count": 49,
     "metadata": {},
     "output_type": "execute_result"
    }
   ],
   "source": [
    "np.power(arr1,2)"
   ]
  },
  {
   "cell_type": "code",
   "execution_count": 50,
   "id": "632a3884-c6ed-48f3-87a4-0c83df5fafe5",
   "metadata": {},
   "outputs": [
    {
     "data": {
      "text/plain": [
       "5.166666666666667"
      ]
     },
     "execution_count": 50,
     "metadata": {},
     "output_type": "execute_result"
    }
   ],
   "source": [
    "np.mean(arr1)"
   ]
  },
  {
   "cell_type": "code",
   "execution_count": 51,
   "id": "a76c2deb-4063-43a7-8018-32db39cebafd",
   "metadata": {},
   "outputs": [
    {
     "data": {
      "text/plain": [
       "5.0"
      ]
     },
     "execution_count": 51,
     "metadata": {},
     "output_type": "execute_result"
    }
   ],
   "source": [
    "np.median(arr1)"
   ]
  },
  {
   "cell_type": "code",
   "execution_count": 53,
   "id": "87e74429-cfea-4b56-b426-bb0abdcce1f0",
   "metadata": {},
   "outputs": [
    {
     "data": {
      "text/plain": [
       "2.576604138956718"
      ]
     },
     "execution_count": 53,
     "metadata": {},
     "output_type": "execute_result"
    }
   ],
   "source": [
    "np.std(arr1)"
   ]
  },
  {
   "cell_type": "code",
   "execution_count": 54,
   "id": "951abc84-ae7c-410d-a5df-0c848db12b0f",
   "metadata": {},
   "outputs": [
    {
     "data": {
      "text/plain": [
       "6.63888888888889"
      ]
     },
     "execution_count": 54,
     "metadata": {},
     "output_type": "execute_result"
    }
   ],
   "source": [
    "np.var(arr1)"
   ]
  },
  {
   "cell_type": "code",
   "execution_count": 55,
   "id": "561c5033-42b5-49bf-abb6-7b4c22ad6d9d",
   "metadata": {},
   "outputs": [
    {
     "data": {
      "text/plain": [
       "1"
      ]
     },
     "execution_count": 55,
     "metadata": {},
     "output_type": "execute_result"
    }
   ],
   "source": [
    "np.min(arr1)"
   ]
  },
  {
   "cell_type": "code",
   "execution_count": 57,
   "id": "e9b95bee-218d-4276-af74-3494e2f4bf8d",
   "metadata": {},
   "outputs": [
    {
     "data": {
      "text/plain": [
       "9"
      ]
     },
     "execution_count": 57,
     "metadata": {},
     "output_type": "execute_result"
    }
   ],
   "source": [
    "np.max(arr1)"
   ]
  },
  {
   "cell_type": "code",
   "execution_count": 58,
   "id": "9f9ee82d-aae6-4374-944e-c3b7951358e9",
   "metadata": {},
   "outputs": [],
   "source": [
    "# Numpy - Arithmetic Operation"
   ]
  },
  {
   "cell_type": "code",
   "execution_count": 59,
   "id": "fa9536c8-1178-4b63-8102-27ce5e0cb7de",
   "metadata": {},
   "outputs": [
    {
     "data": {
      "text/plain": [
       "array([[1, 5, 5, 6],\n",
       "       [4, 3, 9, 7],\n",
       "       [8, 9, 3, 2]])"
      ]
     },
     "execution_count": 59,
     "metadata": {},
     "output_type": "execute_result"
    }
   ],
   "source": [
    "arr1"
   ]
  },
  {
   "cell_type": "code",
   "execution_count": 60,
   "id": "053d83f3-43cf-4b81-9d34-39a8f6619ef2",
   "metadata": {},
   "outputs": [
    {
     "data": {
      "text/plain": [
       "array([[7, 8, 7, 7],\n",
       "       [2, 2, 2, 3],\n",
       "       [5, 3, 4, 7]])"
      ]
     },
     "execution_count": 60,
     "metadata": {},
     "output_type": "execute_result"
    }
   ],
   "source": [
    "arr2"
   ]
  },
  {
   "cell_type": "code",
   "execution_count": 61,
   "id": "305c78b7-e255-4170-8777-d509834f29ba",
   "metadata": {},
   "outputs": [
    {
     "data": {
      "text/plain": [
       "array([[-6, -3, -2, -1],\n",
       "       [ 2,  1,  7,  4],\n",
       "       [ 3,  6, -1, -5]])"
      ]
     },
     "execution_count": 61,
     "metadata": {},
     "output_type": "execute_result"
    }
   ],
   "source": [
    "arr1-arr2"
   ]
  },
  {
   "cell_type": "code",
   "execution_count": 62,
   "id": "190f799d-35d9-4057-8376-a9ee663395ac",
   "metadata": {},
   "outputs": [
    {
     "data": {
      "text/plain": [
       "array([[-6, -3, -2, -1],\n",
       "       [ 2,  1,  7,  4],\n",
       "       [ 3,  6, -1, -5]])"
      ]
     },
     "execution_count": 62,
     "metadata": {},
     "output_type": "execute_result"
    }
   ],
   "source": [
    "np.subtract(arr1,arr2)"
   ]
  },
  {
   "cell_type": "code",
   "execution_count": 63,
   "id": "2f7d12d9-15cf-401c-b743-dfbbdb8f0d13",
   "metadata": {},
   "outputs": [
    {
     "data": {
      "text/plain": [
       "array([[ 7, 40, 35, 42],\n",
       "       [ 8,  6, 18, 21],\n",
       "       [40, 27, 12, 14]])"
      ]
     },
     "execution_count": 63,
     "metadata": {},
     "output_type": "execute_result"
    }
   ],
   "source": [
    "np.multiply(arr1,arr2)"
   ]
  },
  {
   "cell_type": "code",
   "execution_count": 64,
   "id": "4fde803f-5b82-4324-9fc2-dedd1f630597",
   "metadata": {},
   "outputs": [
    {
     "data": {
      "text/plain": [
       "array([[1, 5, 5, 6],\n",
       "       [0, 1, 1, 1],\n",
       "       [3, 0, 3, 2]])"
      ]
     },
     "execution_count": 64,
     "metadata": {},
     "output_type": "execute_result"
    }
   ],
   "source": [
    "np.mod(arr1,arr2)"
   ]
  },
  {
   "cell_type": "code",
   "execution_count": 65,
   "id": "39fd9968-cc24-41c2-bd5a-b3cc6d808090",
   "metadata": {},
   "outputs": [
    {
     "data": {
      "text/plain": [
       "array([[     1, 390625,  78125, 279936],\n",
       "       [    16,      9,     81,    343],\n",
       "       [ 32768,    729,     81,    128]])"
      ]
     },
     "execution_count": 65,
     "metadata": {},
     "output_type": "execute_result"
    }
   ],
   "source": [
    "np.power(arr1,arr2)"
   ]
  },
  {
   "cell_type": "code",
   "execution_count": 66,
   "id": "4630642e-891e-4136-887d-c03c9540eeff",
   "metadata": {},
   "outputs": [
    {
     "data": {
      "text/plain": [
       "array([[1.        , 2.23606798, 2.23606798, 2.44948974],\n",
       "       [2.        , 1.73205081, 3.        , 2.64575131],\n",
       "       [2.82842712, 3.        , 1.73205081, 1.41421356]])"
      ]
     },
     "execution_count": 66,
     "metadata": {},
     "output_type": "execute_result"
    }
   ],
   "source": [
    "np.sqrt(arr1)"
   ]
  },
  {
   "cell_type": "code",
   "execution_count": 67,
   "id": "b600aee6-ddb4-4200-bb11-54f1d7d2bfd1",
   "metadata": {},
   "outputs": [],
   "source": [
    "#Numpy - Statistical Fuction"
   ]
  },
  {
   "cell_type": "code",
   "execution_count": 68,
   "id": "1d264a5a-e7f9-400f-82cd-2a3427f7b1c9",
   "metadata": {},
   "outputs": [
    {
     "data": {
      "text/plain": [
       "array([[1, 5, 5, 6],\n",
       "       [4, 3, 9, 7],\n",
       "       [8, 9, 3, 2]])"
      ]
     },
     "execution_count": 68,
     "metadata": {},
     "output_type": "execute_result"
    }
   ],
   "source": [
    "arr1"
   ]
  },
  {
   "cell_type": "code",
   "execution_count": 69,
   "id": "25915f11-0971-4d11-ba21-186281e4a9cd",
   "metadata": {},
   "outputs": [
    {
     "data": {
      "text/plain": [
       "5.166666666666667"
      ]
     },
     "execution_count": 69,
     "metadata": {},
     "output_type": "execute_result"
    }
   ],
   "source": [
    "# Find average of it\n",
    "np.mean(arr1)"
   ]
  },
  {
   "cell_type": "code",
   "execution_count": 70,
   "id": "df81fe25-cbfa-4441-ac44-dc4d7b9ade8f",
   "metadata": {},
   "outputs": [
    {
     "data": {
      "text/plain": [
       "2.576604138956718"
      ]
     },
     "execution_count": 70,
     "metadata": {},
     "output_type": "execute_result"
    }
   ],
   "source": [
    "np.std(arr1)"
   ]
  },
  {
   "cell_type": "code",
   "execution_count": 71,
   "id": "9a49d2d1-5cb6-4d5b-b625-4b5edb7094e6",
   "metadata": {},
   "outputs": [
    {
     "data": {
      "text/plain": [
       "5.0"
      ]
     },
     "execution_count": 71,
     "metadata": {},
     "output_type": "execute_result"
    }
   ],
   "source": [
    "np.median(arr1)"
   ]
  },
  {
   "cell_type": "code",
   "execution_count": null,
   "id": "d2bc7a05-bb8b-4d79-9603-27716627127f",
   "metadata": {},
   "outputs": [],
   "source": []
  }
 ],
 "metadata": {
  "kernelspec": {
   "display_name": "Python 3 (ipykernel)",
   "language": "python",
   "name": "python3"
  },
  "language_info": {
   "codemirror_mode": {
    "name": "ipython",
    "version": 3
   },
   "file_extension": ".py",
   "mimetype": "text/x-python",
   "name": "python",
   "nbconvert_exporter": "python",
   "pygments_lexer": "ipython3",
   "version": "3.10.8"
  }
 },
 "nbformat": 4,
 "nbformat_minor": 5
}
